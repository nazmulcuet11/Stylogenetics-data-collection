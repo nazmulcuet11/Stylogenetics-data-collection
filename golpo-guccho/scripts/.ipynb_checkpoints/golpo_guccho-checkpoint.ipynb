{
 "cells": [
  {
   "cell_type": "code",
   "execution_count": 6,
   "metadata": {},
   "outputs": [],
   "source": [
    "import os\n",
    "from urllib.request import urlopen\n",
    "from bs4 import BeautifulSoup"
   ]
  },
  {
   "cell_type": "markdown",
   "metadata": {},
   "source": [
    "fetch page using urlilb"
   ]
  },
  {
   "cell_type": "code",
   "execution_count": 25,
   "metadata": {},
   "outputs": [],
   "source": [
    "#base_url = 'https://rabindra-rachanabali.nltr.org/node/4?subcatid=2&catId=5'\n",
    "base_url = 'file:./base_html.html'\n",
    "page = urlopen(base_url)"
   ]
  },
  {
   "cell_type": "markdown",
   "metadata": {},
   "source": [
    "parse page into beautiful soup object"
   ]
  },
  {
   "cell_type": "code",
   "execution_count": 26,
   "metadata": {},
   "outputs": [],
   "source": [
    "soup = BeautifulSoup(page, 'lxml')"
   ]
  },
  {
   "cell_type": "code",
   "execution_count": 32,
   "metadata": {},
   "outputs": [],
   "source": [
    "links = {}\n",
    "anchors = soup.find_all('a')\n",
    "for anchor in anchors:\n",
    "    links[anchor.text] = anchor['href']"
   ]
  },
  {
   "cell_type": "code",
   "execution_count": 94,
   "metadata": {},
   "outputs": [
    {
     "name": "stdout",
     "output_type": "stream",
     "text": [
      "বোষ্টমী\n",
      "বলাই\n",
      "মুক্তির উপায়\n",
      "রামকানাইয়ের নির্বুদ্ধিতা\n",
      "উলুখড়ের বিপদ\n",
      "পোস্টমাস্টার\n",
      "মণিহারা\n",
      "দিদি\n",
      "দুর্বুদ্ধি\n",
      "মহামায়া\n",
      "কর্মফল\n",
      "বদনাম\n",
      "দালিয়া\n",
      "ফেল\n",
      "ডিটেকটিভ\n",
      "ব্যবধান\n",
      "একটা আষাঢ়ে গল্প\n",
      "তারাপ্রসন্নের কীর্তি\n",
      "প্রতিহিংসা\n",
      "স্ত্রীর পত্র\n",
      "মানভঞ্জন\n",
      "একরাত্রি\n",
      "প্রতিবেশিনী\n",
      "কঙ্কাল\n",
      "প্রগতিসংহার\n",
      "একটি ক্ষুদ্র পুরাতন গল্প\n",
      "অধ্যাপক\n",
      "অনধিকার প্রবেশ\n",
      "দুরাশা\n",
      "স্বর্ণমৃগ\n",
      "মাল্যদান\n",
      "রাজপথের কথা\n",
      "খোকাবাবুর প্রত্যাবর্তন\n",
      "উদ্ধার\n",
      "মাস্টারমশায়\n",
      "পাত্র ও পাত্রী\n",
      "ত্যাগ\n",
      "রাসমণির ছেলে\n",
      "চিত্রকর\n",
      "দানপ্রতিদান\n",
      "পয়লা নম্বর\n",
      "অসম্ভব কথা\n",
      "ছুটি\n",
      "পণরক্ষা\n",
      "ক্ষুধিত পাষাণ\n",
      "ঠাকুরদা\n",
      "সংস্কার\n",
      "মুকুট\n",
      "রাজটিকা\n",
      "প্রায়শ্চিত্ত\n",
      "সমস্যাপূরণ\n",
      "দেনাপাওনা\n",
      "খাতা\n",
      "মধ্যবর্তিনী\n",
      "ভিখারিনী\n",
      "শেষের রাত্রি\n",
      "ইচ্ছাপূরণ\n",
      "শুভদৃষ্টি\n",
      "জীবিত ও মৃত\n",
      "কাবুলিওয়ালা\n",
      "ঘাটের কথা\n",
      "তপস্বিনী\n",
      "আপদ\n",
      "নামঞ্জুর গল্প\n",
      "সদর ও অন্দর\n",
      "হালদারগোষ্ঠী\n",
      "অতিথি\n",
      "চোরাই ধন\n",
      "নিশীথে\n",
      "মুসলমানীর গল্প\n",
      "সুভা\n",
      "নষ্টনীড়\n",
      "জয়পরাজয়\n",
      "যজ্ঞেশ্বরের যজ্ঞ\n",
      "গুপ্তধন\n",
      "পুত্রযজ্ঞ\n",
      "অপরিচিতা\n",
      "দৃষ্টিদান\n",
      "দর্পহরণ\n",
      "সমাপ্তি\n",
      "ভাইফোঁটা\n",
      "করুণা\n",
      "মেঘ ও রৌদ্র\n",
      "সম্পাদক\n",
      "বিচারক\n",
      "রীতিমত নভেল\n",
      "শেষ পুরস্কার\n",
      "হৈমন্তী\n",
      "সম্পত্তি-সমর্পণ\n",
      "শাস্তি\n",
      "গিন্নি\n"
     ]
    }
   ],
   "source": [
    "len(links)"
   ]
  },
  {
   "cell_type": "code",
   "execution_count": 89,
   "metadata": {},
   "outputs": [
    {
     "name": "stdout",
     "output_type": "stream",
     "text": [
      "https://rabindra-rachanabali.nltr.org/node/1906\n"
     ]
    }
   ],
   "source": [
    "base_url = 'https://rabindra-rachanabali.nltr.org'"
   ]
  },
  {
   "cell_type": "code",
   "execution_count": 90,
   "metadata": {
    "scrolled": false
   },
   "outputs": [
    {
     "name": "stdout",
     "output_type": "stream",
     "text": [
      "https://rabindra-rachanabali.nltr.org/node/1909\n",
      "https://rabindra-rachanabali.nltr.org/node/1912\n",
      "https://rabindra-rachanabali.nltr.org/node/1913\n",
      "https://rabindra-rachanabali.nltr.org/node/1917\n",
      "https://rabindra-rachanabali.nltr.org/node/1922\n",
      "https://rabindra-rachanabali.nltr.org/node/1927\n",
      "https://rabindra-rachanabali.nltr.org/node/1930\n",
      "https://rabindra-rachanabali.nltr.org/node/1932\n",
      "https://rabindra-rachanabali.nltr.org/node/1934\n",
      "https://rabindra-rachanabali.nltr.org/node/1936\n",
      "end of the story\n"
     ]
    }
   ],
   "source": [
    "for key in links.keys():\n",
    "    print('start crolling: ' + key)\n",
    "    url = base_url + links[key]\n",
    "    print(url)\n",
    "    text = \"\"\n",
    "    file_name = key + '.txt'\n",
    "    f = open(file_name,'w')\n",
    "    while True:\n",
    "        page = urlopen(url)\n",
    "        soup = BeautifulSoup(page, 'html.parser')\n",
    "        div = soup.find('div', attrs={'class': 'upanyas'})\n",
    "        text += div.text\n",
    "        # fetch next page\n",
    "        right_navigation = soup.find('div', {'id': 'rightnavigation'})\n",
    "        if right_navigation:\n",
    "            next_page_link = right_navigation.a['href']\n",
    "            url = base_url + next_page_link\n",
    "            url\n",
    "            print(url)\n",
    "        else:\n",
    "            print('end of the story')\n",
    "            break\n",
    "    #end of while\n",
    "    f.write(text)\n",
    "    f.close()\n",
    "#end of for"
   ]
  },
  {
   "cell_type": "code",
   "execution_count": null,
   "metadata": {},
   "outputs": [],
   "source": []
  }
 ],
 "metadata": {
  "kernelspec": {
   "display_name": "Python 3",
   "language": "python",
   "name": "python3"
  },
  "language_info": {
   "codemirror_mode": {
    "name": "ipython",
    "version": 3
   },
   "file_extension": ".py",
   "mimetype": "text/x-python",
   "name": "python",
   "nbconvert_exporter": "python",
   "pygments_lexer": "ipython3",
   "version": "3.5.2"
  }
 },
 "nbformat": 4,
 "nbformat_minor": 2
}
