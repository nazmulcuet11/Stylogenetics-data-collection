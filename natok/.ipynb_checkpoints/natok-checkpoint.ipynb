{
 "cells": [
  {
   "cell_type": "code",
   "execution_count": 1,
   "metadata": {},
   "outputs": [],
   "source": [
    "import os\n",
    "from urllib.request import urlopen\n",
    "from bs4 import BeautifulSoup"
   ]
  },
  {
   "cell_type": "code",
   "execution_count": 15,
   "metadata": {},
   "outputs": [],
   "source": [
    "url = 'file:./base_html.html'\n",
    "page = urlopen(url)\n",
    "soup = BeautifulSoup(page, 'lxml')"
   ]
  },
  {
   "cell_type": "code",
   "execution_count": null,
   "metadata": {},
   "outputs": [],
   "source": [
    "anchors = soup.find_all('a')\n",
    "links = {}\n",
    "for anchor in anchors:\n",
    "    links[anchor.text] = anchor['href']\n",
    "len(links)"
   ]
  },
  {
   "cell_type": "code",
   "execution_count": null,
   "metadata": {
    "scrolled": false
   },
   "outputs": [],
   "source": [
    "base_url = 'https://rabindra-rachanabali.nltr.org'\n",
    "for key in links.keys():\n",
    "    #temporary code to avoid crolling existing file\n",
    "    file_path = os.getcwd() + '/' + key + '.txt'\n",
    "    if os.path.exists(file_path):\n",
    "        print('exists')\n",
    "        continue\n",
    "    #end of temporary code\n",
    "    \n",
    "    print('start crolling: ' + key)\n",
    "    url = base_url + links[key]\n",
    "    print(url)\n",
    "    text = \"\"\n",
    "    file_name = key + '.txt'\n",
    "    while True:\n",
    "        page = urlopen(url)\n",
    "        soup = BeautifulSoup(page, 'html.parser')\n",
    "        div = soup.find('div', attrs={'class': 'upanyas'})\n",
    "        if not div:\n",
    "            div = soup.find('div', attrs={'class': 'node'})\n",
    "        text += div.text\n",
    "        # fetch next page\n",
    "        right_navigation = soup.find('div', {'id': 'rightnavigation'})\n",
    "        if right_navigation:\n",
    "            next_page_link = right_navigation.a['href']\n",
    "            url = base_url + next_page_link\n",
    "            print(url)\n",
    "        else:\n",
    "            print('end of the story')\n",
    "            break\n",
    "    #end of while\n",
    "    f = open(file_name,'w')\n",
    "    f.write(text)\n",
    "    f.close()\n",
    "#end of forbase_url = 'https://rabindra-rachanabali.nltr.org'\n",
    "for key in links.keys():\n",
    "    #temporary code to avoid crolling existing file\n",
    "    file_path = os.getcwd() + '/' + key + '.txt'\n",
    "    if os.path.exists(file_path):\n",
    "        print('exists')\n",
    "        continue\n",
    "    #end of temporary code\n",
    "    \n",
    "    print('start crolling: ' + key)\n",
    "    url = base_url + links[key]\n",
    "    print(url)\n",
    "    text = \"\"\n",
    "    file_name = key + '.txt'\n",
    "    while True:\n",
    "        page = urlopen(url)\n",
    "        soup = BeautifulSoup(page, 'html.parser')\n",
    "        div = soup.find('div', attrs={'class': 'upanyas'})\n",
    "        if not div:\n",
    "            div = soup.find('div', attrs={'class': 'node'})\n",
    "        text += div.text\n",
    "        # fetch next page\n",
    "        right_navigation = soup.find('div', {'id': 'rightnavigation'})\n",
    "        if right_navigation:\n",
    "            next_page_link = right_navigation.a['href']\n",
    "            url = base_url + next_page_link\n",
    "            print(url)\n",
    "        else:\n",
    "            print('end of the story')\n",
    "            break\n",
    "    #end of while\n",
    "    f = open(file_name,'w')\n",
    "    f.write(text)\n",
    "    f.close()\n",
    "#end of for"
   ]
  },
  {
   "cell_type": "code",
   "execution_count": null,
   "metadata": {},
   "outputs": [],
   "source": []
  }
 ],
 "metadata": {
  "kernelspec": {
   "display_name": "Python 3",
   "language": "python",
   "name": "python3"
  },
  "language_info": {
   "codemirror_mode": {
    "name": "ipython",
    "version": 3
   },
   "file_extension": ".py",
   "mimetype": "text/x-python",
   "name": "python",
   "nbconvert_exporter": "python",
   "pygments_lexer": "ipython3",
   "version": "3.5.2"
  }
 },
 "nbformat": 4,
 "nbformat_minor": 2
}
