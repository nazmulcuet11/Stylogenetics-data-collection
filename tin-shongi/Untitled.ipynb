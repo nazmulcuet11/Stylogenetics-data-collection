{
 "cells": [
  {
   "cell_type": "code",
   "execution_count": 1,
   "metadata": {},
   "outputs": [],
   "source": [
    "import os\n",
    "from urllib.request import urlopen\n",
    "from bs4 import BeautifulSoup"
   ]
  },
  {
   "cell_type": "code",
   "execution_count": 2,
   "metadata": {},
   "outputs": [],
   "source": [
    "url = 'https://rabindra-rachanabali.nltr.org/node/4?subcatid=4&catId=5'\n",
    "page = urlopen(url)\n",
    "soup = BeautifulSoup(page, 'lxml')"
   ]
  },
  {
   "cell_type": "code",
   "execution_count": 3,
   "metadata": {},
   "outputs": [],
   "source": [
    "links = {}\n",
    "anchors = soup.find('table', {'class': 'list'}).find_all('a')\n",
    "for anchor in anchors:\n",
    "    links[anchor.text] = anchor['href']"
   ]
  },
  {
   "cell_type": "code",
   "execution_count": 5,
   "metadata": {},
   "outputs": [
    {
     "data": {
      "text/plain": [
       "4"
      ]
     },
     "execution_count": 5,
     "metadata": {},
     "output_type": "execute_result"
    }
   ],
   "source": [
    "len(links)"
   ]
  },
  {
   "cell_type": "code",
   "execution_count": 6,
   "metadata": {},
   "outputs": [
    {
     "name": "stdout",
     "output_type": "stream",
     "text": [
      "start crolling: শেষ কথা\n",
      "https://rabindra-rachanabali.nltr.org/node/1514\n",
      "https://rabindra-rachanabali.nltr.org/node/1520\n",
      "https://rabindra-rachanabali.nltr.org/node/1527\n",
      "https://rabindra-rachanabali.nltr.org/node/1530\n",
      "https://rabindra-rachanabali.nltr.org/node/1533\n",
      "https://rabindra-rachanabali.nltr.org/node/1536\n",
      "https://rabindra-rachanabali.nltr.org/node/1538\n",
      "https://rabindra-rachanabali.nltr.org/node/1540\n",
      "https://rabindra-rachanabali.nltr.org/node/1541\n",
      "https://rabindra-rachanabali.nltr.org/node/1544\n",
      "https://rabindra-rachanabali.nltr.org/node/1546\n",
      "https://rabindra-rachanabali.nltr.org/node/1549\n",
      "https://rabindra-rachanabali.nltr.org/node/1551\n",
      "https://rabindra-rachanabali.nltr.org/node/1555\n",
      "https://rabindra-rachanabali.nltr.org/node/1557\n",
      "https://rabindra-rachanabali.nltr.org/node/1561\n",
      "end of the story\n",
      "start crolling: পরিশিষ্ট\n",
      "https://rabindra-rachanabali.nltr.org/node/1733\n",
      "https://rabindra-rachanabali.nltr.org/node/1739\n",
      "https://rabindra-rachanabali.nltr.org/node/1741\n",
      "https://rabindra-rachanabali.nltr.org/node/1744\n",
      "https://rabindra-rachanabali.nltr.org/node/1745\n",
      "https://rabindra-rachanabali.nltr.org/node/1746\n",
      "https://rabindra-rachanabali.nltr.org/node/1747\n",
      "https://rabindra-rachanabali.nltr.org/node/1748\n",
      "https://rabindra-rachanabali.nltr.org/node/1749\n",
      "https://rabindra-rachanabali.nltr.org/node/1753\n",
      "https://rabindra-rachanabali.nltr.org/node/1755\n",
      "https://rabindra-rachanabali.nltr.org/node/1757\n",
      "https://rabindra-rachanabali.nltr.org/node/1760\n",
      "https://rabindra-rachanabali.nltr.org/node/1761\n",
      "https://rabindra-rachanabali.nltr.org/node/1766\n",
      "https://rabindra-rachanabali.nltr.org/node/1767\n",
      "https://rabindra-rachanabali.nltr.org/node/1768\n",
      "https://rabindra-rachanabali.nltr.org/node/1770\n",
      "https://rabindra-rachanabali.nltr.org/node/1771\n",
      "end of the story\n",
      "start crolling: ল্যাবরেটরি\n",
      "https://rabindra-rachanabali.nltr.org/node/1593\n",
      "https://rabindra-rachanabali.nltr.org/node/1601\n",
      "https://rabindra-rachanabali.nltr.org/node/1605\n",
      "https://rabindra-rachanabali.nltr.org/node/1611\n",
      "https://rabindra-rachanabali.nltr.org/node/1614\n",
      "https://rabindra-rachanabali.nltr.org/node/1617\n",
      "https://rabindra-rachanabali.nltr.org/node/1619\n",
      "https://rabindra-rachanabali.nltr.org/node/1623\n",
      "https://rabindra-rachanabali.nltr.org/node/1626\n",
      "https://rabindra-rachanabali.nltr.org/node/1642\n",
      "https://rabindra-rachanabali.nltr.org/node/1645\n",
      "https://rabindra-rachanabali.nltr.org/node/1647\n",
      "https://rabindra-rachanabali.nltr.org/node/1648\n",
      "https://rabindra-rachanabali.nltr.org/node/1651\n",
      "https://rabindra-rachanabali.nltr.org/node/1653\n",
      "https://rabindra-rachanabali.nltr.org/node/1657\n",
      "https://rabindra-rachanabali.nltr.org/node/1659\n",
      "https://rabindra-rachanabali.nltr.org/node/1662\n",
      "https://rabindra-rachanabali.nltr.org/node/1665\n",
      "https://rabindra-rachanabali.nltr.org/node/1670\n",
      "https://rabindra-rachanabali.nltr.org/node/1673\n",
      "https://rabindra-rachanabali.nltr.org/node/1695\n",
      "https://rabindra-rachanabali.nltr.org/node/1697\n",
      "https://rabindra-rachanabali.nltr.org/node/1700\n",
      "https://rabindra-rachanabali.nltr.org/node/1701\n",
      "https://rabindra-rachanabali.nltr.org/node/1702\n",
      "https://rabindra-rachanabali.nltr.org/node/1704\n",
      "https://rabindra-rachanabali.nltr.org/node/1714\n",
      "https://rabindra-rachanabali.nltr.org/node/1716\n",
      "https://rabindra-rachanabali.nltr.org/node/1717\n",
      "https://rabindra-rachanabali.nltr.org/node/1719\n",
      "https://rabindra-rachanabali.nltr.org/node/1722\n",
      "https://rabindra-rachanabali.nltr.org/node/1723\n",
      "end of the story\n",
      "start crolling: রবিবার\n",
      "https://rabindra-rachanabali.nltr.org/node/1481\n",
      "https://rabindra-rachanabali.nltr.org/node/1482\n",
      "https://rabindra-rachanabali.nltr.org/node/1485\n",
      "https://rabindra-rachanabali.nltr.org/node/1487\n",
      "https://rabindra-rachanabali.nltr.org/node/1489\n",
      "https://rabindra-rachanabali.nltr.org/node/1492\n",
      "https://rabindra-rachanabali.nltr.org/node/1495\n",
      "https://rabindra-rachanabali.nltr.org/node/1496\n",
      "https://rabindra-rachanabali.nltr.org/node/1497\n",
      "https://rabindra-rachanabali.nltr.org/node/1498\n",
      "https://rabindra-rachanabali.nltr.org/node/1499\n",
      "https://rabindra-rachanabali.nltr.org/node/1500\n",
      "https://rabindra-rachanabali.nltr.org/node/1502\n",
      "https://rabindra-rachanabali.nltr.org/node/1505\n",
      "https://rabindra-rachanabali.nltr.org/node/1508\n",
      "end of the story\n"
     ]
    }
   ],
   "source": [
    "base_url = 'https://rabindra-rachanabali.nltr.org'\n",
    "for key in links.keys():\n",
    "    #temporary code to avoid crolling existing file\n",
    "    file_path = os.getcwd() + '/' + key + '.txt'\n",
    "    if os.path.exists(file_path):\n",
    "        print('exists')\n",
    "        continue\n",
    "    #end of temporary code\n",
    "    \n",
    "    print('start crolling: ' + key)\n",
    "    url = base_url + links[key]\n",
    "    print(url)\n",
    "    text = \"\"\n",
    "    file_name = key + '.txt'\n",
    "    while True:\n",
    "        page = urlopen(url)\n",
    "        soup = BeautifulSoup(page, 'html.parser')\n",
    "        div = soup.find('div', attrs={'class': 'upanyas'})\n",
    "        if not div:\n",
    "            div = soup.find('div', attrs={'class': 'node'})\n",
    "        text += div.text\n",
    "        # fetch next page\n",
    "        right_navigation = soup.find('div', {'id': 'rightnavigation'})\n",
    "        if right_navigation:\n",
    "            next_page_link = right_navigation.a['href']\n",
    "            url = base_url + next_page_link\n",
    "            print(url)\n",
    "        else:\n",
    "            print('end of the story')\n",
    "            break\n",
    "    #end of while\n",
    "    f = open(file_name,'w')\n",
    "    f.write(text)\n",
    "    f.close()\n",
    "#end of for"
   ]
  },
  {
   "cell_type": "code",
   "execution_count": null,
   "metadata": {},
   "outputs": [],
   "source": []
  }
 ],
 "metadata": {
  "kernelspec": {
   "display_name": "Python 3",
   "language": "python",
   "name": "python3"
  },
  "language_info": {
   "codemirror_mode": {
    "name": "ipython",
    "version": 3
   },
   "file_extension": ".py",
   "mimetype": "text/x-python",
   "name": "python",
   "nbconvert_exporter": "python",
   "pygments_lexer": "ipython3",
   "version": "3.5.2"
  }
 },
 "nbformat": 4,
 "nbformat_minor": 2
}
